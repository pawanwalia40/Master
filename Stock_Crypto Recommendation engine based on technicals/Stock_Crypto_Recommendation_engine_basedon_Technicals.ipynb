{
 "cells": [
  {
   "cell_type": "markdown",
   "id": "29b0d422",
   "metadata": {},
   "source": [
    "## 1. Stock recommendation Model based on Technical indicators \n",
    "<p>This Module Fetch the data from https://in.tradingview.com/ . Main objective of this module is to take company symbol as input and provide recommendation for buying/Selling based on technical indicators data with different time intervals </p>\n",
    "<p><em>Feel Free to reach out to me if you need any help in reading the data </em></p>"
   ]
  },
  {
   "cell_type": "code",
   "execution_count": 2,
   "id": "9c0d5f28",
   "metadata": {},
   "outputs": [],
   "source": [
    "from tradingview_ta import TA_Handler, Interval, Exchange\n",
    "import tradingview_ta\n",
    "import pandas as pd\n",
    "import numpy as np\n",
    "from IPython.display import display\n",
    "pd.set_option('display.max_rows', 500)\n",
    "pd.set_option('display.max_columns', 500)\n",
    "pd.set_option('max_colwidth', None)\n"
   ]
  },
  {
   "cell_type": "markdown",
   "id": "c45fd097",
   "metadata": {},
   "source": [
    "## 2. Build function for scrapping data from trading view handler\n",
    "   <p> Updatehandler function will pull data from Exchange provided in input variables </p>"
   ]
  },
  {
   "cell_type": "code",
   "execution_count": 3,
   "id": "995e2752",
   "metadata": {},
   "outputs": [],
   "source": [
    "def updatehandler(interval,symbol,exchange,screener):    \n",
    "    handler = TA_Handler(\n",
    "        symbol=symbol,\n",
    "        exchange=exchange,\n",
    "        screener=screener,\n",
    "        interval=interval,\n",
    "        timeout=None )\n",
    "    return handler\n",
    "\n",
    "\n",
    "def get_analysis(symbol, interval,exchange,screener):\n",
    "    handler = updatehandler(interval,symbol,exchange,screener)\n",
    "    analysis = handler.get_analysis()\n",
    "    return analysis\n"
   ]
  },
  {
   "cell_type": "markdown",
   "id": "9cf1d4a1",
   "metadata": {},
   "source": [
    "## 3. Build functions for recomandation after getting technical data from TA handler"
   ]
  },
  {
   "cell_type": "code",
   "execution_count": 6,
   "id": "6ecc05b9",
   "metadata": {},
   "outputs": [],
   "source": [
    "\n",
    "def Trade_start(symbol_list,interval_list,exchange,screener):\n",
    "    ##set index to 0 to travel through all symbols\n",
    "    index = 0 \n",
    "    row_counter = 0\n",
    "    while index < len(symbol_list):\n",
    "        symbol= symbol_list[index]\n",
    "        #print('Stock Analysis started for '+symbol)\n",
    "        for indx2 in range(len(interval_list)):\n",
    "            interval= interval_list[indx2]\n",
    "            #print('Stock Analysis interval used :'+interval)\n",
    "            col_name = symbol+'_'+interval\n",
    "            ##get analysis from trading view\n",
    "            analysis = get_analysis(symbol, interval,exchange,screener)\n",
    "            ##Update Stock_recommendation_details in pandas \n",
    "            if row_counter == 0:\n",
    "                #print('Creating schema for new dataframe')\n",
    "                columns_list = \"Stock_Name,Close_Price,rsi_value,Interval,Refresh_Time,Overall_recommendation,oscillators_recommendation,moving_averages_recommendation\".split(',')\n",
    "                Stock_recommend_details = pd.DataFrame(columns = columns_list)\n",
    "                ##create dataframe to store stock indicators values details \n",
    "                stock_indicator_details = pd.DataFrame.from_dict(analysis.indicators, orient ='index',columns = [col_name])\n",
    "                stock_indicator_details[col_name] = np.round(stock_indicator_details[col_name], decimals = 3)\n",
    "            ##get refreshed time from trading view    \n",
    "            Refresh_Time =analysis.time.strftime(\"%m/%d/%Y, %H:%M:%S\")\n",
    "            ##update dataframe for recomandation\n",
    "            Stock_recommend_details.loc[row_counter] = [symbol, analysis.indicators[\"close\"], analysis.indicators[\"RSI\"],interval, Refresh_Time,analysis.summary,analysis.oscillators,analysis.moving_averages]\n",
    "            \n",
    "            ##update stock indicators values details in pandas\n",
    "            if row_counter > 0:\n",
    "                #print('updating : ',col_name)\n",
    "                stock_indicator_details[col_name] = pd.Series(analysis.indicators)\n",
    "                stock_indicator_details = stock_indicator_details.replace(np.nan, 99.99)\n",
    "                stock_indicator_details[col_name] = np.round(stock_indicator_details[col_name], decimals = 3)\n",
    "            row_counter+=1\n",
    "            \n",
    "        index+=1\n",
    "    return  stock_indicator_details,Stock_recommend_details\n"
   ]
  },
  {
   "cell_type": "markdown",
   "id": "b1941ba4",
   "metadata": {},
   "source": [
    "## Run Stock Analysis \n",
    "<P> This Engine can be executed for Stock/Crypto recommendation in following ways. <p>\n",
    "<p> below are input parameters required for running the engine <p>\n",
    "<p> trigger_mode -> it takes any value out of these two - stock / crypto <p>\n",
    "<p> symbols ->  provide multiple or single stock/crypto symbol names which is listed on exchange, you can check symbols in trading view/any other trading platform Example -  ICICIBANK,INFY or PUSHUSDT  <p>\n",
    "<p> exchange -> provide exchange names, it takes NSE as default value in case of stock and binance for cypto <p>\n",
    "<p> screener -> provide screener value based on perticular country stock information you need EX - INDIA or USA or CRYPTO it takes default value as INDIA in case of stocks and CRYPTO in case of crypto <P> \n",
    "<p>interval_list -> it takes input as a list of interval data you need to look for recommendation. it takes default value as \n",
    "                     [ \"1h\",\"1d\" ,\"1W\" ,\"1M\"] <p>"
   ]
  },
  {
   "cell_type": "code",
   "execution_count": 80,
   "id": "c26bcbc2",
   "metadata": {},
   "outputs": [],
   "source": [
    "\n",
    "def main(symbols, trigger_mode ,exchange = \"\" ,screener  = \"\", interval = \"\"): \n",
    "    symbol_list = symbols.split(',')\n",
    "    interval_list = interval.split(',')\n",
    "    if interval == \"\" :\n",
    "        interval_list = [\"1h\",\"1d\" ,\"1W\" ,\"1M\"]\n",
    "    if trigger_mode != 'crypto' :\n",
    "        if exchange == \"\"  :\n",
    "             exchange = \"NSE\"\n",
    "        if screener == \"\" :\n",
    "            screener=\"INDIA\"\n",
    "        stock_indicator_details,Stock_recommend_details = Trade_start(symbol_list,interval_list,exchange.upper(),screener)\n",
    "        \n",
    "    else :\n",
    "        if exchange == \"\"  :\n",
    "            exchange = \"BINANCE\"\n",
    "        if screener == \"\" :\n",
    "            screener=\"crypto\"\n",
    "        stock_indicator_details,Stock_recommend_details = Trade_start(symbol_list,interval_list,exchange.upper(),screener)\n",
    "\n",
    "    return stock_indicator_details,Stock_recommend_details\n",
    "    \n",
    "#stock_indicator_details,Stock_recommend_details = main()    \n"
   ]
  },
  {
   "cell_type": "markdown",
   "id": "5596daa1",
   "metadata": {},
   "source": [
    "## Reading output data \n",
    "<p> We get two following pandas dataframes as output from recommendation engine <p>\n",
    "<p> stock_indicator_details -> this dataframe provides actual values of all the technical indicators <P>\n",
    "<p> Stock_recommend_details -> this dataframe provide overall summary of buying/selling indication based on indicators data <p>"
   ]
  },
  {
   "cell_type": "markdown",
   "id": "da0b4aa2",
   "metadata": {},
   "source": [
    "## Executing Stock recommendation engine\n",
    "<p> Run Below cell to execute recommendation engine and provide required inputs <p>"
   ]
  },
  {
   "cell_type": "code",
   "execution_count": 69,
   "id": "9e03a5a4",
   "metadata": {},
   "outputs": [
    {
     "name": "stdout",
     "output_type": "stream",
     "text": [
      "Provide trigger mode for engine, Pick b/w these two -> stock/crypto ->  : stock\n",
      "Provide Symbols information, Ex-> ICICIBANK,INFY or PUSHUSDT : INFY\n",
      "Provide exchange information, keep it blank if you want use NSE as default for stock and Binance for crypto : \n",
      "Provide screener information, keep it blank if you want use INDIA as default for stock and crypto for crypto : \n",
      "provide intervals with information, keep it blank if you want to use default value as  1h,1d,1W,1M for intervals 1h,1d\n",
      "interval_list :  ['1h', '1d']\n"
     ]
    },
    {
     "data": {
      "text/html": [
       "<div>\n",
       "<style scoped>\n",
       "    .dataframe tbody tr th:only-of-type {\n",
       "        vertical-align: middle;\n",
       "    }\n",
       "\n",
       "    .dataframe tbody tr th {\n",
       "        vertical-align: top;\n",
       "    }\n",
       "\n",
       "    .dataframe thead th {\n",
       "        text-align: right;\n",
       "    }\n",
       "</style>\n",
       "<table border=\"1\" class=\"dataframe\">\n",
       "  <thead>\n",
       "    <tr style=\"text-align: right;\">\n",
       "      <th></th>\n",
       "      <th>Stock_Name</th>\n",
       "      <th>Close_Price</th>\n",
       "      <th>rsi_value</th>\n",
       "      <th>Interval</th>\n",
       "      <th>Refresh_Time</th>\n",
       "      <th>Overall_recommendation</th>\n",
       "      <th>oscillators_recommendation</th>\n",
       "      <th>moving_averages_recommendation</th>\n",
       "    </tr>\n",
       "  </thead>\n",
       "  <tbody>\n",
       "    <tr>\n",
       "      <th>0</th>\n",
       "      <td>INFY</td>\n",
       "      <td>1724</td>\n",
       "      <td>27.835072</td>\n",
       "      <td>1h</td>\n",
       "      <td>01/25/2022, 23:24:24</td>\n",
       "      <td>{'RECOMMENDATION': 'SELL', 'BUY': 5, 'SELL': 12, 'NEUTRAL': 9}</td>\n",
       "      <td>{'RECOMMENDATION': 'BUY', 'BUY': 3, 'SELL': 0, 'NEUTRAL': 8, 'COMPUTE': {'RSI': 'BUY', 'STOCH.K': 'NEUTRAL', 'CCI': 'NEUTRAL', 'ADX': 'NEUTRAL', 'AO': 'NEUTRAL', 'Mom': 'BUY', 'MACD': 'BUY', 'Stoch.RSI': 'NEUTRAL', 'W%R': 'NEUTRAL', 'BBP': 'NEUTRAL', 'UO': 'NEUTRAL'}}</td>\n",
       "      <td>{'RECOMMENDATION': 'STRONG_SELL', 'BUY': 2, 'SELL': 12, 'NEUTRAL': 1, 'COMPUTE': {'EMA10': 'SELL', 'SMA10': 'BUY', 'EMA20': 'SELL', 'SMA20': 'SELL', 'EMA30': 'SELL', 'SMA30': 'SELL', 'EMA50': 'SELL', 'SMA50': 'SELL', 'EMA100': 'SELL', 'SMA100': 'SELL', 'EMA200': 'SELL', 'SMA200': 'SELL', 'Ichimoku': 'NEUTRAL', 'VWMA': 'SELL', 'HullMA': 'BUY'}}</td>\n",
       "    </tr>\n",
       "    <tr>\n",
       "      <th>1</th>\n",
       "      <td>INFY</td>\n",
       "      <td>1722.15</td>\n",
       "      <td>33.115611</td>\n",
       "      <td>1d</td>\n",
       "      <td>01/25/2022, 23:24:25</td>\n",
       "      <td>{'RECOMMENDATION': 'SELL', 'BUY': 5, 'SELL': 14, 'NEUTRAL': 7}</td>\n",
       "      <td>{'RECOMMENDATION': 'NEUTRAL', 'BUY': 2, 'SELL': 3, 'NEUTRAL': 6, 'COMPUTE': {'RSI': 'NEUTRAL', 'STOCH.K': 'NEUTRAL', 'CCI': 'BUY', 'ADX': 'NEUTRAL', 'AO': 'SELL', 'Mom': 'SELL', 'MACD': 'SELL', 'Stoch.RSI': 'NEUTRAL', 'W%R': 'BUY', 'BBP': 'NEUTRAL', 'UO': 'NEUTRAL'}}</td>\n",
       "      <td>{'RECOMMENDATION': 'STRONG_SELL', 'BUY': 3, 'SELL': 11, 'NEUTRAL': 1, 'COMPUTE': {'EMA10': 'SELL', 'SMA10': 'SELL', 'EMA20': 'SELL', 'SMA20': 'SELL', 'EMA30': 'SELL', 'SMA30': 'SELL', 'EMA50': 'SELL', 'SMA50': 'SELL', 'EMA100': 'SELL', 'SMA100': 'SELL', 'EMA200': 'BUY', 'SMA200': 'BUY', 'Ichimoku': 'NEUTRAL', 'VWMA': 'SELL', 'HullMA': 'BUY'}}</td>\n",
       "    </tr>\n",
       "  </tbody>\n",
       "</table>\n",
       "</div>"
      ],
      "text/plain": [
       "  Stock_Name Close_Price  rsi_value Interval          Refresh_Time  \\\n",
       "0       INFY        1724  27.835072       1h  01/25/2022, 23:24:24   \n",
       "1       INFY     1722.15  33.115611       1d  01/25/2022, 23:24:25   \n",
       "\n",
       "                                           Overall_recommendation  \\\n",
       "0  {'RECOMMENDATION': 'SELL', 'BUY': 5, 'SELL': 12, 'NEUTRAL': 9}   \n",
       "1  {'RECOMMENDATION': 'SELL', 'BUY': 5, 'SELL': 14, 'NEUTRAL': 7}   \n",
       "\n",
       "                                                                                                                                                                                                                                                     oscillators_recommendation  \\\n",
       "0  {'RECOMMENDATION': 'BUY', 'BUY': 3, 'SELL': 0, 'NEUTRAL': 8, 'COMPUTE': {'RSI': 'BUY', 'STOCH.K': 'NEUTRAL', 'CCI': 'NEUTRAL', 'ADX': 'NEUTRAL', 'AO': 'NEUTRAL', 'Mom': 'BUY', 'MACD': 'BUY', 'Stoch.RSI': 'NEUTRAL', 'W%R': 'NEUTRAL', 'BBP': 'NEUTRAL', 'UO': 'NEUTRAL'}}   \n",
       "1   {'RECOMMENDATION': 'NEUTRAL', 'BUY': 2, 'SELL': 3, 'NEUTRAL': 6, 'COMPUTE': {'RSI': 'NEUTRAL', 'STOCH.K': 'NEUTRAL', 'CCI': 'BUY', 'ADX': 'NEUTRAL', 'AO': 'SELL', 'Mom': 'SELL', 'MACD': 'SELL', 'Stoch.RSI': 'NEUTRAL', 'W%R': 'BUY', 'BBP': 'NEUTRAL', 'UO': 'NEUTRAL'}}   \n",
       "\n",
       "                                                                                                                                                                                                                                                                                                                              moving_averages_recommendation  \n",
       "0  {'RECOMMENDATION': 'STRONG_SELL', 'BUY': 2, 'SELL': 12, 'NEUTRAL': 1, 'COMPUTE': {'EMA10': 'SELL', 'SMA10': 'BUY', 'EMA20': 'SELL', 'SMA20': 'SELL', 'EMA30': 'SELL', 'SMA30': 'SELL', 'EMA50': 'SELL', 'SMA50': 'SELL', 'EMA100': 'SELL', 'SMA100': 'SELL', 'EMA200': 'SELL', 'SMA200': 'SELL', 'Ichimoku': 'NEUTRAL', 'VWMA': 'SELL', 'HullMA': 'BUY'}}  \n",
       "1   {'RECOMMENDATION': 'STRONG_SELL', 'BUY': 3, 'SELL': 11, 'NEUTRAL': 1, 'COMPUTE': {'EMA10': 'SELL', 'SMA10': 'SELL', 'EMA20': 'SELL', 'SMA20': 'SELL', 'EMA30': 'SELL', 'SMA30': 'SELL', 'EMA50': 'SELL', 'SMA50': 'SELL', 'EMA100': 'SELL', 'SMA100': 'SELL', 'EMA200': 'BUY', 'SMA200': 'BUY', 'Ichimoku': 'NEUTRAL', 'VWMA': 'SELL', 'HullMA': 'BUY'}}  "
      ]
     },
     "metadata": {},
     "output_type": "display_data"
    }
   ],
   "source": [
    "trigger_mode = input(\"Provide trigger mode for engine, Pick b/w these two -> stock/crypto ->  : \" ).lower()\n",
    "symbols = input(\"Provide Symbols information, Ex-> ICICIBANK,INFY or PUSHUSDT : \" ).upper()\n",
    "exchange = input(\"Provide exchange information, keep it blank if you want use NSE as default for stock and Binance for crypto : \" ) \n",
    "screener = input(\"Provide screener information, keep it blank if you want use INDIA as default for stock and crypto for crypto : \" ) \n",
    "interval = input('''provide intervals with information, keep it blank if you want to use default value as  1h,1d,1W,1M for intervals ''')\n",
    "stock_indicator_details,Stock_recommend_details = main(symbols, trigger_mode ,exchange,screener, interval ) \n",
    "display(Stock_recommend_details)"
   ]
  },
  {
   "cell_type": "markdown",
   "id": "eedc4cc6",
   "metadata": {},
   "source": [
    "### Run ICICIBANK recommendation based on 1-day chart"
   ]
  },
  {
   "cell_type": "code",
   "execution_count": 76,
   "id": "dfcae3f9",
   "metadata": {},
   "outputs": [
    {
     "name": "stdout",
     "output_type": "stream",
     "text": [
      "interval_list :  ['1d']\n"
     ]
    },
    {
     "data": {
      "text/html": [
       "<div>\n",
       "<style scoped>\n",
       "    .dataframe tbody tr th:only-of-type {\n",
       "        vertical-align: middle;\n",
       "    }\n",
       "\n",
       "    .dataframe tbody tr th {\n",
       "        vertical-align: top;\n",
       "    }\n",
       "\n",
       "    .dataframe thead th {\n",
       "        text-align: right;\n",
       "    }\n",
       "</style>\n",
       "<table border=\"1\" class=\"dataframe\">\n",
       "  <thead>\n",
       "    <tr style=\"text-align: right;\">\n",
       "      <th></th>\n",
       "      <th>Stock_Name</th>\n",
       "      <th>Close_Price</th>\n",
       "      <th>rsi_value</th>\n",
       "      <th>Interval</th>\n",
       "      <th>Refresh_Time</th>\n",
       "      <th>Overall_recommendation</th>\n",
       "      <th>oscillators_recommendation</th>\n",
       "      <th>moving_averages_recommendation</th>\n",
       "    </tr>\n",
       "  </thead>\n",
       "  <tbody>\n",
       "    <tr>\n",
       "      <th>0</th>\n",
       "      <td>ICICIBANK</td>\n",
       "      <td>801.65</td>\n",
       "      <td>58.30968</td>\n",
       "      <td>1d</td>\n",
       "      <td>01/25/2022, 23:34:24</td>\n",
       "      <td>{'RECOMMENDATION': 'BUY', 'BUY': 14, 'SELL': 3, 'NEUTRAL': 9}</td>\n",
       "      <td>{'RECOMMENDATION': 'NEUTRAL', 'BUY': 2, 'SELL': 1, 'NEUTRAL': 8, 'COMPUTE': {'RSI': 'NEUTRAL', 'STOCH.K': 'NEUTRAL', 'CCI': 'NEUTRAL', 'ADX': 'NEUTRAL', 'AO': 'NEUTRAL', 'Mom': 'BUY', 'MACD': 'SELL', 'Stoch.RSI': 'NEUTRAL', 'W%R': 'NEUTRAL', 'BBP': 'BUY', 'UO': 'NEUTRAL'}}</td>\n",
       "      <td>{'RECOMMENDATION': 'STRONG_BUY', 'BUY': 12, 'SELL': 2, 'NEUTRAL': 1, 'COMPUTE': {'EMA10': 'SELL', 'SMA10': 'SELL', 'EMA20': 'BUY', 'SMA20': 'BUY', 'EMA30': 'BUY', 'SMA30': 'BUY', 'EMA50': 'BUY', 'SMA50': 'BUY', 'EMA100': 'BUY', 'SMA100': 'BUY', 'EMA200': 'BUY', 'SMA200': 'BUY', 'Ichimoku': 'NEUTRAL', 'VWMA': 'BUY', 'HullMA': 'BUY'}}</td>\n",
       "    </tr>\n",
       "  </tbody>\n",
       "</table>\n",
       "</div>"
      ],
      "text/plain": [
       "  Stock_Name  Close_Price  rsi_value Interval          Refresh_Time  \\\n",
       "0  ICICIBANK       801.65   58.30968       1d  01/25/2022, 23:34:24   \n",
       "\n",
       "                                          Overall_recommendation  \\\n",
       "0  {'RECOMMENDATION': 'BUY', 'BUY': 14, 'SELL': 3, 'NEUTRAL': 9}   \n",
       "\n",
       "                                                                                                                                                                                                                                                          oscillators_recommendation  \\\n",
       "0  {'RECOMMENDATION': 'NEUTRAL', 'BUY': 2, 'SELL': 1, 'NEUTRAL': 8, 'COMPUTE': {'RSI': 'NEUTRAL', 'STOCH.K': 'NEUTRAL', 'CCI': 'NEUTRAL', 'ADX': 'NEUTRAL', 'AO': 'NEUTRAL', 'Mom': 'BUY', 'MACD': 'SELL', 'Stoch.RSI': 'NEUTRAL', 'W%R': 'NEUTRAL', 'BBP': 'BUY', 'UO': 'NEUTRAL'}}   \n",
       "\n",
       "                                                                                                                                                                                                                                                                                                                   moving_averages_recommendation  \n",
       "0  {'RECOMMENDATION': 'STRONG_BUY', 'BUY': 12, 'SELL': 2, 'NEUTRAL': 1, 'COMPUTE': {'EMA10': 'SELL', 'SMA10': 'SELL', 'EMA20': 'BUY', 'SMA20': 'BUY', 'EMA30': 'BUY', 'SMA30': 'BUY', 'EMA50': 'BUY', 'SMA50': 'BUY', 'EMA100': 'BUY', 'SMA100': 'BUY', 'EMA200': 'BUY', 'SMA200': 'BUY', 'Ichimoku': 'NEUTRAL', 'VWMA': 'BUY', 'HullMA': 'BUY'}}  "
      ]
     },
     "metadata": {},
     "output_type": "display_data"
    }
   ],
   "source": [
    "trigger_mode = 'stock'\n",
    "symbols = \"ICICIBANK\"\n",
    "interval = '1d'\n",
    "exchange = \"NSE\"\n",
    "screener = \"INDIA\"\n",
    "stock_indicator_details,Stock_recommend_details = main(symbols, trigger_mode ,exchange  ,screener   , interval ) \n",
    "display(Stock_recommend_details)"
   ]
  },
  {
   "cell_type": "markdown",
   "id": "1923e0e2",
   "metadata": {},
   "source": [
    "###  Run Crypto Analysis for BTCUSDT on 30min and 1 hr chart data"
   ]
  },
  {
   "cell_type": "code",
   "execution_count": 83,
   "id": "1148f081",
   "metadata": {},
   "outputs": [
    {
     "data": {
      "text/html": [
       "<div>\n",
       "<style scoped>\n",
       "    .dataframe tbody tr th:only-of-type {\n",
       "        vertical-align: middle;\n",
       "    }\n",
       "\n",
       "    .dataframe tbody tr th {\n",
       "        vertical-align: top;\n",
       "    }\n",
       "\n",
       "    .dataframe thead th {\n",
       "        text-align: right;\n",
       "    }\n",
       "</style>\n",
       "<table border=\"1\" class=\"dataframe\">\n",
       "  <thead>\n",
       "    <tr style=\"text-align: right;\">\n",
       "      <th></th>\n",
       "      <th>Stock_Name</th>\n",
       "      <th>Close_Price</th>\n",
       "      <th>rsi_value</th>\n",
       "      <th>Interval</th>\n",
       "      <th>Refresh_Time</th>\n",
       "      <th>Overall_recommendation</th>\n",
       "      <th>oscillators_recommendation</th>\n",
       "      <th>moving_averages_recommendation</th>\n",
       "    </tr>\n",
       "  </thead>\n",
       "  <tbody>\n",
       "    <tr>\n",
       "      <th>0</th>\n",
       "      <td>BTCUSDT</td>\n",
       "      <td>37184.01</td>\n",
       "      <td>64.476852</td>\n",
       "      <td>30m</td>\n",
       "      <td>01/25/2022, 23:40:38</td>\n",
       "      <td>{'RECOMMENDATION': 'BUY', 'BUY': 15, 'SELL': 4, 'NEUTRAL': 7}</td>\n",
       "      <td>{'RECOMMENDATION': 'NEUTRAL', 'BUY': 2, 'SELL': 3, 'NEUTRAL': 6, 'COMPUTE': {'RSI': 'NEUTRAL', 'STOCH.K': 'NEUTRAL', 'CCI': 'SELL', 'ADX': 'NEUTRAL', 'AO': 'NEUTRAL', 'Mom': 'BUY', 'MACD': 'BUY', 'Stoch.RSI': 'SELL', 'W%R': 'SELL', 'BBP': 'NEUTRAL', 'UO': 'NEUTRAL'}}</td>\n",
       "      <td>{'RECOMMENDATION': 'STRONG_BUY', 'BUY': 13, 'SELL': 1, 'NEUTRAL': 1, 'COMPUTE': {'EMA10': 'BUY', 'SMA10': 'BUY', 'EMA20': 'BUY', 'SMA20': 'BUY', 'EMA30': 'BUY', 'SMA30': 'BUY', 'EMA50': 'BUY', 'SMA50': 'BUY', 'EMA100': 'BUY', 'SMA100': 'BUY', 'EMA200': 'BUY', 'SMA200': 'BUY', 'Ichimoku': 'NEUTRAL', 'VWMA': 'BUY', 'HullMA': 'SELL'}}</td>\n",
       "    </tr>\n",
       "    <tr>\n",
       "      <th>1</th>\n",
       "      <td>BTCUSDT</td>\n",
       "      <td>37184.01</td>\n",
       "      <td>64.434024</td>\n",
       "      <td>1h</td>\n",
       "      <td>01/25/2022, 23:40:39</td>\n",
       "      <td>{'RECOMMENDATION': 'BUY', 'BUY': 13, 'SELL': 5, 'NEUTRAL': 8}</td>\n",
       "      <td>{'RECOMMENDATION': 'SELL', 'BUY': 1, 'SELL': 3, 'NEUTRAL': 7, 'COMPUTE': {'RSI': 'NEUTRAL', 'STOCH.K': 'NEUTRAL', 'CCI': 'SELL', 'ADX': 'NEUTRAL', 'AO': 'NEUTRAL', 'Mom': 'SELL', 'MACD': 'BUY', 'Stoch.RSI': 'NEUTRAL', 'W%R': 'SELL', 'BBP': 'NEUTRAL', 'UO': 'NEUTRAL'}}</td>\n",
       "      <td>{'RECOMMENDATION': 'STRONG_BUY', 'BUY': 12, 'SELL': 2, 'NEUTRAL': 1, 'COMPUTE': {'EMA10': 'BUY', 'SMA10': 'BUY', 'EMA20': 'BUY', 'SMA20': 'BUY', 'EMA30': 'BUY', 'SMA30': 'BUY', 'EMA50': 'BUY', 'SMA50': 'BUY', 'EMA100': 'BUY', 'SMA100': 'BUY', 'EMA200': 'SELL', 'SMA200': 'SELL', 'Ichimoku': 'NEUTRAL', 'VWMA': 'BUY', 'HullMA': 'BUY'}}</td>\n",
       "    </tr>\n",
       "  </tbody>\n",
       "</table>\n",
       "</div>"
      ],
      "text/plain": [
       "  Stock_Name  Close_Price  rsi_value Interval          Refresh_Time  \\\n",
       "0    BTCUSDT     37184.01  64.476852      30m  01/25/2022, 23:40:38   \n",
       "1    BTCUSDT     37184.01  64.434024       1h  01/25/2022, 23:40:39   \n",
       "\n",
       "                                          Overall_recommendation  \\\n",
       "0  {'RECOMMENDATION': 'BUY', 'BUY': 15, 'SELL': 4, 'NEUTRAL': 7}   \n",
       "1  {'RECOMMENDATION': 'BUY', 'BUY': 13, 'SELL': 5, 'NEUTRAL': 8}   \n",
       "\n",
       "                                                                                                                                                                                                                                                     oscillators_recommendation  \\\n",
       "0   {'RECOMMENDATION': 'NEUTRAL', 'BUY': 2, 'SELL': 3, 'NEUTRAL': 6, 'COMPUTE': {'RSI': 'NEUTRAL', 'STOCH.K': 'NEUTRAL', 'CCI': 'SELL', 'ADX': 'NEUTRAL', 'AO': 'NEUTRAL', 'Mom': 'BUY', 'MACD': 'BUY', 'Stoch.RSI': 'SELL', 'W%R': 'SELL', 'BBP': 'NEUTRAL', 'UO': 'NEUTRAL'}}   \n",
       "1  {'RECOMMENDATION': 'SELL', 'BUY': 1, 'SELL': 3, 'NEUTRAL': 7, 'COMPUTE': {'RSI': 'NEUTRAL', 'STOCH.K': 'NEUTRAL', 'CCI': 'SELL', 'ADX': 'NEUTRAL', 'AO': 'NEUTRAL', 'Mom': 'SELL', 'MACD': 'BUY', 'Stoch.RSI': 'NEUTRAL', 'W%R': 'SELL', 'BBP': 'NEUTRAL', 'UO': 'NEUTRAL'}}   \n",
       "\n",
       "                                                                                                                                                                                                                                                                                                                   moving_averages_recommendation  \n",
       "0   {'RECOMMENDATION': 'STRONG_BUY', 'BUY': 13, 'SELL': 1, 'NEUTRAL': 1, 'COMPUTE': {'EMA10': 'BUY', 'SMA10': 'BUY', 'EMA20': 'BUY', 'SMA20': 'BUY', 'EMA30': 'BUY', 'SMA30': 'BUY', 'EMA50': 'BUY', 'SMA50': 'BUY', 'EMA100': 'BUY', 'SMA100': 'BUY', 'EMA200': 'BUY', 'SMA200': 'BUY', 'Ichimoku': 'NEUTRAL', 'VWMA': 'BUY', 'HullMA': 'SELL'}}  \n",
       "1  {'RECOMMENDATION': 'STRONG_BUY', 'BUY': 12, 'SELL': 2, 'NEUTRAL': 1, 'COMPUTE': {'EMA10': 'BUY', 'SMA10': 'BUY', 'EMA20': 'BUY', 'SMA20': 'BUY', 'EMA30': 'BUY', 'SMA30': 'BUY', 'EMA50': 'BUY', 'SMA50': 'BUY', 'EMA100': 'BUY', 'SMA100': 'BUY', 'EMA200': 'SELL', 'SMA200': 'SELL', 'Ichimoku': 'NEUTRAL', 'VWMA': 'BUY', 'HullMA': 'BUY'}}  "
      ]
     },
     "metadata": {},
     "output_type": "display_data"
    }
   ],
   "source": [
    "trigger_mode = 'crypto'\n",
    "symbols = \"BTCUSDT\"\n",
    "interval = '30m,1h'\n",
    "exchange = \"binance\"\n",
    "screener = \"crypto\"\n",
    "stock_indicator_details,Stock_recommend_details = main(symbols, trigger_mode ,exchange  ,screener   , interval ) \n",
    "display(Stock_recommend_details)\n"
   ]
  }
 ],
 "metadata": {
  "kernelspec": {
   "display_name": "Python 3",
   "language": "python",
   "name": "python3"
  },
  "language_info": {
   "codemirror_mode": {
    "name": "ipython",
    "version": 3
   },
   "file_extension": ".py",
   "mimetype": "text/x-python",
   "name": "python",
   "nbconvert_exporter": "python",
   "pygments_lexer": "ipython3",
   "version": "3.8.8"
  }
 },
 "nbformat": 4,
 "nbformat_minor": 5
}
